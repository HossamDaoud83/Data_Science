{
  "metadata": {
    "kernelspec": {
      "name": "python",
      "display_name": "Python (Pyodide)",
      "language": "python"
    },
    "language_info": {
      "codemirror_mode": {
        "name": "python",
        "version": 3
      },
      "file_extension": ".py",
      "mimetype": "text/x-python",
      "name": "python",
      "nbconvert_exporter": "python",
      "pygments_lexer": "ipython3",
      "version": "3.8"
    }
  },
  "nbformat_minor": 4,
  "nbformat": 4,
  "cells": [
    {
      "cell_type": "markdown",
      "source": "# Data Science Fundamentals: Final Project",
      "metadata": {}
    },
    {
      "cell_type": "markdown",
      "source": "## Introduction\n## This notebook demonstrates fundamental data science concepts and tools covered in the course.",
      "metadata": {}
    },
    {
      "cell_type": "markdown",
      "source": "## Data Science Languages\n- Python\n- R\n- SQL",
      "metadata": {}
    },
    {
      "cell_type": "markdown",
      "source": "## Data Science Libraries\n- pandas\n- NumPy\n- scikit-learn\n- Matplotlib\n- Seaborn\n- TensorFlow\n- PyTorch",
      "metadata": {},
      "attachments": {}
    },
    {
      "cell_type": "markdown",
      "source": "## Data Science Tools\n| Tool             | Description                               |\n|------------------|-------------------------------------------|\n| Jupyter Notebook | Tool for creating and sharing documents that contain live code, equations, visualizations, and narrative text. |\n| Tableau          | Visualization software used in business intelligence. |\n| TensorFlow       | An open-source framework for machine learning. |\n",
      "metadata": {}
    },
    {
      "cell_type": "markdown",
      "source": "## Arithmetic Expressions\n## In programming, arithmetic expressions are used to perform mathematical operations between variables and values.",
      "metadata": {}
    },
    {
      "cell_type": "code",
      "source": "# Multiplication and Addition\na = 5\nb = 3\nprint(\"Multiplication:\", a * b)\nprint(\"Addition:\", a + b)",
      "metadata": {
        "trusted": true
      },
      "outputs": [
        {
          "name": "stdout",
          "text": "Multiplication: 15\nAddition: 8\n",
          "output_type": "stream"
        }
      ],
      "execution_count": 1
    },
    {
      "cell_type": "code",
      "source": "# Convert minutes to hours\nminutes = 120\nhours = minutes / 60\nprint(f\"{minutes} minutes is {hours} hours.\")",
      "metadata": {
        "trusted": true
      },
      "outputs": [
        {
          "name": "stdout",
          "text": "120 minutes is 2.0 hours.\n",
          "output_type": "stream"
        }
      ],
      "execution_count": 2
    },
    {
      "cell_type": "markdown",
      "source": "## Objectives\n- Understand fundamental data science concepts.\n- Learn the basic use of Jupyterlite Notebook.\n- Showcase simple Python programming for data calculations.",
      "metadata": {}
    },
    {
      "cell_type": "markdown",
      "source": "## Author\\nCreated by Hossam Daoud.",
      "metadata": {}
    },
    {
      "cell_type": "code",
      "source": "",
      "metadata": {
        "trusted": true
      },
      "outputs": [],
      "execution_count": null
    }
  ]
}